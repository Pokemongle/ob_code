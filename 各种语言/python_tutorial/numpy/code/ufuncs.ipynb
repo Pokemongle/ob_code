{
 "cells": [
  {
   "cell_type": "markdown",
   "id": "db1a6be9",
   "metadata": {},
   "source": [
    "# Numpy ufuncs"
   ]
  },
  {
   "cell_type": "code",
   "execution_count": 1,
   "id": "1cd79c1a",
   "metadata": {},
   "outputs": [],
   "source": [
    "import numpy as np"
   ]
  },
  {
   "cell_type": "markdown",
   "id": "fec2b22f",
   "metadata": {},
   "source": [
    "## 0_ufuncs intro"
   ]
  },
  {
   "cell_type": "code",
   "execution_count": 5,
   "id": "b9e056f8",
   "metadata": {},
   "outputs": [
    {
     "name": "stdout",
     "output_type": "stream",
     "text": [
      "[6, 8, 10, 12]\n",
      "[ 6  8 10 12]\n"
     ]
    }
   ],
   "source": [
    "x = [1, 2, 3, 4]\n",
    "y = [5, 6, 7, 8]\n",
    "z = []\n",
    "# how to add up these two lists?\n",
    "for i, j in zip(x, y):\n",
    "    z.append(i + j)\n",
    "print(z)\n",
    "\n",
    "# numpy method \n",
    "z = np.add(x, y)\n",
    "print(z)"
   ]
  },
  {
   "cell_type": "markdown",
   "id": "e8b4a32c",
   "metadata": {},
   "source": [
    "# 1_Create Your Own ufunc"
   ]
  },
  {
   "cell_type": "markdown",
   "id": "7986a79c",
   "metadata": {},
   "source": [
    "- frompyfunc(function, inputs, outputs)  \n",
    "    - function - the name of the function  \n",
    "    - inputs - the number of input arguments  \n",
    "    - outputs - the number of output arrays  "
   ]
  },
  {
   "cell_type": "code",
   "execution_count": 6,
   "id": "56989b1b",
   "metadata": {},
   "outputs": [
    {
     "name": "stdout",
     "output_type": "stream",
     "text": [
      "[6 8 10 12]\n"
     ]
    }
   ],
   "source": [
    "def myadd(x, y):\n",
    "    return x + y\n",
    "myadd = np.frompyfunc(myadd, 2, 1)\n",
    "print(myadd([1, 2, 3, 4], [5, 6, 7, 8]))"
   ]
  },
  {
   "cell_type": "markdown",
   "id": "7aae61b3",
   "metadata": {},
   "source": [
    "## check if a Function is a ufunc"
   ]
  },
  {
   "cell_type": "code",
   "execution_count": 7,
   "id": "37c97345",
   "metadata": {},
   "outputs": [
    {
     "name": "stdout",
     "output_type": "stream",
     "text": [
      "<class 'numpy.ufunc'>\n"
     ]
    }
   ],
   "source": [
    "print(type(np.add))"
   ]
  },
  {
   "cell_type": "code",
   "execution_count": 8,
   "id": "40e3d230",
   "metadata": {},
   "outputs": [
    {
     "name": "stdout",
     "output_type": "stream",
     "text": [
      "<class 'function'>\n"
     ]
    }
   ],
   "source": [
    "print(type(np.concatenate))"
   ]
  },
  {
   "cell_type": "code",
   "execution_count": 9,
   "id": "3efdde00",
   "metadata": {},
   "outputs": [
    {
     "name": "stdout",
     "output_type": "stream",
     "text": [
      "Yes\n"
     ]
    }
   ],
   "source": [
    "if type(np.add) == np.ufunc:\n",
    "    print('Yes')\n",
    "else:\n",
    "    print('No')"
   ]
  },
  {
   "cell_type": "markdown",
   "id": "053fed03",
   "metadata": {},
   "source": [
    "# 2_Simple Arithmetic"
   ]
  },
  {
   "cell_type": "code",
   "execution_count": 19,
   "id": "e3346d52",
   "metadata": {},
   "outputs": [
    {
     "name": "stdout",
     "output_type": "stream",
     "text": [
      "[ 7  9 11 13 15]\n",
      "[-5 -5 -5 -5 -5]\n",
      "[ 6 14 24 36 50]\n",
      "[0.16666667 0.28571429 0.375      0.44444444 0.5       ]\n",
      "[      1     128    6561  262144 9765625]\n",
      "[0 1 2 1 0]\n",
      "(array([6, 3, 2, 2, 2]), array([0, 1, 2, 1, 0]))\n",
      "[1 2 3 4 5]\n"
     ]
    }
   ],
   "source": [
    "arr1 = np.array([1,2,3,4,5])\n",
    "arr2 = np.array([6,7,8,9,10])\n",
    "newarr = np.add(arr1, arr2)\n",
    "print(newarr)\n",
    "newarr = np.subtract(arr1, arr2)\n",
    "print(newarr)\n",
    "newarr = np.multiply(arr1, arr2)\n",
    "print(newarr)\n",
    "newarr = np.divide(arr1, arr2)\n",
    "print(newarr)\n",
    "newarr = np.power(arr1, arr2)\n",
    "print(newarr)\n",
    "newarr = np.mod(arr2, arr1)\n",
    "print(newarr)\n",
    "newarr = np.divmod(arr2, arr1)\n",
    "print(newarr)\n",
    "arr = np.array([-1,-2,-3,-4,-5])\n",
    "newarr = np.absolute(arr)\n",
    "print(newarr)"
   ]
  },
  {
   "cell_type": "markdown",
   "id": "e43f5889",
   "metadata": {},
   "source": [
    "# 3_Rounding Decimals"
   ]
  },
  {
   "cell_type": "markdown",
   "id": "41b217df",
   "metadata": {},
   "source": [
    "- truncation\n",
    "- fix \n",
    "- rounding\n",
    "- floor\n",
    "- ceil"
   ]
  },
  {
   "cell_type": "markdown",
   "id": "4c4623b5",
   "metadata": {},
   "source": [
    "## Truncation"
   ]
  },
  {
   "cell_type": "code",
   "execution_count": 22,
   "id": "f5e28dba",
   "metadata": {},
   "outputs": [
    {
     "name": "stdout",
     "output_type": "stream",
     "text": [
      "[-3.  3.]\n",
      "[-3.  3.]\n"
     ]
    }
   ],
   "source": [
    "arr = np.array([-3.166, 3.667])\n",
    "print(np.trunc(arr))\n",
    "print(np.fix(arr)) # they are not the same but the results are the same"
   ]
  },
  {
   "cell_type": "markdown",
   "id": "815e940d",
   "metadata": {},
   "source": [
    "## Rounding "
   ]
  },
  {
   "cell_type": "code",
   "execution_count": null,
   "id": "f47a35b4",
   "metadata": {},
   "outputs": [
    {
     "name": "stdout",
     "output_type": "stream",
     "text": [
      "3.17\n"
     ]
    }
   ],
   "source": [
    "print(np.around(3.166, 2)) # 四舍五入保留几位小数"
   ]
  },
  {
   "cell_type": "code",
   "execution_count": 35,
   "id": "b712de21",
   "metadata": {},
   "outputs": [
    {
     "name": "stdout",
     "output_type": "stream",
     "text": [
      "[-4.  3.]\n",
      "[-3.  4.]\n"
     ]
    }
   ],
   "source": [
    "arr = np.array([-3.166,3.667])\n",
    "print(np.floor(arr)) # 往负无穷取整\n",
    "print(np.ceil(arr)) # 往正无穷取整"
   ]
  },
  {
   "cell_type": "markdown",
   "id": "60fd2c7a",
   "metadata": {},
   "source": [
    "# 4_NumPy Logs"
   ]
  },
  {
   "cell_type": "markdown",
   "id": "ce8e601a",
   "metadata": {},
   "source": [
    "- base 2\n",
    "- base e \n",
    "- base 10\n",
    "- base any"
   ]
  },
  {
   "cell_type": "code",
   "execution_count": 42,
   "id": "e55d9f8e",
   "metadata": {},
   "outputs": [
    {
     "name": "stdout",
     "output_type": "stream",
     "text": [
      "[0.         1.         1.5849625  2.         2.32192809 2.5849625\n",
      " 2.80735492 3.         3.169925  ]\n",
      "[0.         0.30103    0.47712125 0.60205999 0.69897    0.77815125\n",
      " 0.84509804 0.90308999 0.95424251]\n",
      "[0.         0.69314718 1.09861229 1.38629436 1.60943791 1.79175947\n",
      " 1.94591015 2.07944154 2.19722458]\n",
      "1.7005483074552052\n"
     ]
    }
   ],
   "source": [
    "arr = np.arange(1,10)\n",
    "print(np.log2(arr))\n",
    "print(np.log10(arr))\n",
    "print(np.log(arr))\n",
    "\n",
    "from math import log\n",
    "nplog = np.frompyfunc(log,2,1)\n",
    "print(nplog(100, 15))"
   ]
  },
  {
   "cell_type": "markdown",
   "id": "10ad62e8",
   "metadata": {},
   "source": [
    "# 5_NumPy Summations"
   ]
  },
  {
   "cell_type": "markdown",
   "id": "2f93a713",
   "metadata": {},
   "source": [
    "- difference between summantion and addition?\n",
    "    - addition: between 2 arguments \n",
    "    - summation: between n arguments"
   ]
  },
  {
   "cell_type": "code",
   "execution_count": 44,
   "id": "739ff748",
   "metadata": {},
   "outputs": [
    {
     "name": "stdout",
     "output_type": "stream",
     "text": [
      "[5 7 9]\n",
      "21\n"
     ]
    }
   ],
   "source": [
    "arr1 = np.array([1, 2, 3])\n",
    "arr2 = np.array([4, 5, 6])\n",
    "newarr = np.add(arr1, arr2)\n",
    "print(newarr)\n",
    "newarr = np.sum([arr1, arr2])\n",
    "print(newarr)"
   ]
  },
  {
   "cell_type": "markdown",
   "id": "94e6cfe7",
   "metadata": {},
   "source": [
    "## sum over an axis"
   ]
  },
  {
   "cell_type": "code",
   "execution_count": 46,
   "id": "417f23af",
   "metadata": {},
   "outputs": [
    {
     "name": "stdout",
     "output_type": "stream",
     "text": [
      "[ 6 15]\n"
     ]
    }
   ],
   "source": [
    "newarr = np.sum([arr1, arr2], axis=1)\n",
    "print(newarr)"
   ]
  },
  {
   "cell_type": "markdown",
   "id": "f4f7e98e",
   "metadata": {},
   "source": [
    "## Cummulative Sum"
   ]
  },
  {
   "cell_type": "code",
   "execution_count": 48,
   "id": "fb742d0a",
   "metadata": {},
   "outputs": [
    {
     "name": "stdout",
     "output_type": "stream",
     "text": [
      "[1 3 6]\n"
     ]
    }
   ],
   "source": [
    "arr = np.array([1, 2, 3])\n",
    "newarr = np.cumsum(arr)\n",
    "print(newarr)"
   ]
  },
  {
   "cell_type": "markdown",
   "id": "1f179a34",
   "metadata": {},
   "source": [
    "# 6_NumPy Products "
   ]
  },
  {
   "cell_type": "code",
   "execution_count": 49,
   "id": "7ca0ab78",
   "metadata": {},
   "outputs": [
    {
     "name": "stdout",
     "output_type": "stream",
     "text": [
      "24\n"
     ]
    }
   ],
   "source": [
    "arr = np.array([1,2,3,4])\n",
    "x = np.prod(arr)\n",
    "print(x)"
   ]
  },
  {
   "cell_type": "code",
   "execution_count": 53,
   "id": "3c572843",
   "metadata": {},
   "outputs": [
    {
     "name": "stdout",
     "output_type": "stream",
     "text": [
      "40320\n",
      "[  24 1680]\n",
      "[ 1  2  6 24]\n"
     ]
    }
   ],
   "source": [
    "arr1 = np.array([1,2,3,4])\n",
    "arr2 = np.array([5,6,7,8])\n",
    "arr = np.prod([arr1, arr2])\n",
    "print(arr)\n",
    "arr = np.prod([arr1, arr2], axis=1)\n",
    "print(arr)\n",
    "arr = np.cumprod(arr1)\n",
    "print(arr)"
   ]
  },
  {
   "cell_type": "markdown",
   "id": "0a0d7395",
   "metadata": {},
   "source": [
    "# 7_NumPy Differences"
   ]
  },
  {
   "cell_type": "code",
   "execution_count": 55,
   "id": "07fdd086",
   "metadata": {},
   "outputs": [
    {
     "name": "stdout",
     "output_type": "stream",
     "text": [
      "[  5  10 -20]\n",
      "[  5 -30]\n"
     ]
    }
   ],
   "source": [
    "arr = np.array([10, 15, 25, 5])\n",
    "newarr = np.diff(arr)\n",
    "print(newarr)\n",
    "newarr = np.diff(arr, n=2) # do once more\n",
    "print(newarr)"
   ]
  },
  {
   "cell_type": "markdown",
   "id": "25bc98d9",
   "metadata": {},
   "source": [
    "# 8_NumPy LCM Lowest Common Multiple"
   ]
  },
  {
   "cell_type": "markdown",
   "id": "c8e847ad",
   "metadata": {},
   "source": [
    "## LCM of numbers"
   ]
  },
  {
   "cell_type": "code",
   "execution_count": 58,
   "id": "4ad7b895",
   "metadata": {},
   "outputs": [
    {
     "name": "stdout",
     "output_type": "stream",
     "text": [
      "12\n"
     ]
    }
   ],
   "source": [
    "num1 = 4\n",
    "num2 = 6\n",
    "x = np.lcm(num1, num2)\n",
    "print(np.lcm(num1, num2)) # 最小公倍数"
   ]
  },
  {
   "cell_type": "markdown",
   "id": "794378bc",
   "metadata": {},
   "source": [
    "## LCM in an array"
   ]
  },
  {
   "cell_type": "code",
   "execution_count": 64,
   "id": "af030888",
   "metadata": {},
   "outputs": [
    {
     "name": "stdout",
     "output_type": "stream",
     "text": [
      "18\n",
      "2520\n"
     ]
    }
   ],
   "source": [
    "arr = np.array([3, 6, 9])\n",
    "x = np.lcm.reduce(arr)\n",
    "print(x)\n",
    "\n",
    "arr = np.arange(1,11)\n",
    "print(np.lcm.reduce(arr))"
   ]
  },
  {
   "cell_type": "markdown",
   "id": "333e99ed",
   "metadata": {},
   "source": [
    "# 9_NumPy GCD Greatest Common Devisor"
   ]
  },
  {
   "cell_type": "code",
   "execution_count": null,
   "id": "2c52d0ee",
   "metadata": {},
   "outputs": [
    {
     "name": "stdout",
     "output_type": "stream",
     "text": [
      "3\n"
     ]
    }
   ],
   "source": [
    "num1 = 6\n",
    "num2 = 9\n",
    "print(np.gcd(num1, num2)) # 最大公约数"
   ]
  },
  {
   "cell_type": "code",
   "execution_count": 67,
   "id": "74026c46",
   "metadata": {},
   "outputs": [
    {
     "name": "stdout",
     "output_type": "stream",
     "text": [
      "4\n"
     ]
    }
   ],
   "source": [
    "arr = np.array([20, 8, 32, 36, 16])\n",
    "x = np.gcd.reduce(arr)\n",
    "print(x)"
   ]
  },
  {
   "cell_type": "markdown",
   "id": "db50cfca",
   "metadata": {},
   "source": [
    "# 10_trigonometric Functions"
   ]
  },
  {
   "cell_type": "code",
   "execution_count": 68,
   "id": "433bfce9",
   "metadata": {},
   "outputs": [
    {
     "name": "stdout",
     "output_type": "stream",
     "text": [
      "1.0\n"
     ]
    }
   ],
   "source": [
    "x = np.sin(np.pi / 2)\n",
    "print(x)"
   ]
  },
  {
   "cell_type": "code",
   "execution_count": 69,
   "id": "ae734dab",
   "metadata": {},
   "outputs": [
    {
     "name": "stdout",
     "output_type": "stream",
     "text": [
      "[1.         0.8660254  0.70710678 0.58778525]\n"
     ]
    }
   ],
   "source": [
    "arr = np.array([np.pi / 2, np.pi /3, np.pi / 4, np.pi / 5])\n",
    "x = np.sin(arr)\n",
    "print(x)"
   ]
  },
  {
   "cell_type": "markdown",
   "id": "ede17c5c",
   "metadata": {},
   "source": [
    "## Convert Degrees Into Radians "
   ]
  },
  {
   "cell_type": "code",
   "execution_count": 70,
   "id": "5b4d85f5",
   "metadata": {},
   "outputs": [
    {
     "name": "stdout",
     "output_type": "stream",
     "text": [
      "[1.57079633 3.14159265 4.71238898 6.28318531]\n"
     ]
    }
   ],
   "source": [
    "arr = np.array([90, 180, 270, 360])\n",
    "x = np.deg2rad(arr)\n",
    "print(x)"
   ]
  },
  {
   "cell_type": "markdown",
   "id": "b3035499",
   "metadata": {},
   "source": [
    "## Radians to Degrees"
   ]
  },
  {
   "cell_type": "code",
   "execution_count": 71,
   "id": "13836a5e",
   "metadata": {},
   "outputs": [
    {
     "name": "stdout",
     "output_type": "stream",
     "text": [
      "[ 90. 180. 270. 360.]\n"
     ]
    }
   ],
   "source": [
    "arr = np.array([np.pi / 2, np.pi, 1.5*np.pi, 2*np.pi])\n",
    "x = np.rad2deg(arr)\n",
    "print(x)"
   ]
  },
  {
   "cell_type": "markdown",
   "id": "d519c8d8",
   "metadata": {},
   "source": [
    "## Finding Angles "
   ]
  },
  {
   "cell_type": "code",
   "execution_count": 80,
   "id": "fe1e56a3",
   "metadata": {},
   "outputs": [
    {
     "name": "stdout",
     "output_type": "stream",
     "text": [
      "90.0\n",
      "[ 90.         -90.           5.73917048]\n"
     ]
    }
   ],
   "source": [
    "x = np.arcsin(1.0)\n",
    "print(np.rad2deg(x))\n",
    "arr = np.array([1, -1, 0.1])\n",
    "x = np.arcsin(arr)\n",
    "x = np.rad2deg(x)\n",
    "print(x)"
   ]
  },
  {
   "cell_type": "markdown",
   "id": "2a9ec420",
   "metadata": {},
   "source": [
    "## Hypotenues 三角形斜边"
   ]
  },
  {
   "cell_type": "code",
   "execution_count": 81,
   "id": "403fa729",
   "metadata": {},
   "outputs": [
    {
     "name": "stdout",
     "output_type": "stream",
     "text": [
      "5.0\n"
     ]
    }
   ],
   "source": [
    "base = 3\n",
    "perp = 4\n",
    "x = np.hypot(base, perp)\n",
    "print(x)"
   ]
  },
  {
   "cell_type": "markdown",
   "id": "c026543a",
   "metadata": {},
   "source": [
    "# 11_NumPy Hyperbolic Functions 双曲函数"
   ]
  },
  {
   "cell_type": "markdown",
   "id": "1d908ae6",
   "metadata": {},
   "source": [
    "- sinh(x) = $ (e^{x} - e^{-x}) / 2 $\n",
    "- cosh(x) = $ (e^{x} + e^{-x}) / 2 $\n",
    "- tanh(x) = sinh(x) / cosh(x) = $ (e^{x} - e^{-x}) / (e^{x} + e^{-x}) $ "
   ]
  },
  {
   "cell_type": "code",
   "execution_count": 82,
   "id": "44112c36",
   "metadata": {},
   "outputs": [
    {
     "name": "stdout",
     "output_type": "stream",
     "text": [
      "2.3012989023072947\n"
     ]
    }
   ],
   "source": [
    "x = np.sinh(np.pi/2)\n",
    "print(x)"
   ]
  },
  {
   "cell_type": "code",
   "execution_count": 85,
   "id": "df305eea",
   "metadata": {},
   "outputs": [
    {
     "name": "stdout",
     "output_type": "stream",
     "text": [
      "0.881373587019543\n"
     ]
    }
   ],
   "source": [
    "x = np.arcsinh(1.0)\n",
    "print(x)"
   ]
  },
  {
   "cell_type": "markdown",
   "id": "98b06df3",
   "metadata": {},
   "source": [
    "# 12_NumPy Set Operations "
   ]
  },
  {
   "cell_type": "markdown",
   "id": "5e48c542",
   "metadata": {},
   "source": [
    "## Create Sets in NumPy"
   ]
  },
  {
   "cell_type": "code",
   "execution_count": 87,
   "id": "5a2438be",
   "metadata": {},
   "outputs": [
    {
     "name": "stdout",
     "output_type": "stream",
     "text": [
      "[1 2 3 4 5 6 7]\n"
     ]
    }
   ],
   "source": [
    "arr = np.array([1, 1, 1, 2, 3, 4, 5, 5, 6, 7])\n",
    "x = np.unique(arr)\n",
    "print(x)"
   ]
  },
  {
   "cell_type": "markdown",
   "id": "2f8b013e",
   "metadata": {},
   "source": [
    "## Finding Union"
   ]
  },
  {
   "cell_type": "code",
   "execution_count": 89,
   "id": "33756cae",
   "metadata": {},
   "outputs": [
    {
     "name": "stdout",
     "output_type": "stream",
     "text": [
      "[1 2 3 4 5 6]\n"
     ]
    }
   ],
   "source": [
    "arr1 = np.array([1, 2, 3, 4])\n",
    "arr2 = np.array([3, 4, 5, 6])\n",
    "newarr = np.union1d(arr1, arr2)\n",
    "print(newarr)"
   ]
  },
  {
   "cell_type": "markdown",
   "id": "edbe0348",
   "metadata": {},
   "source": [
    "## Finding Intersection"
   ]
  },
  {
   "cell_type": "code",
   "execution_count": 90,
   "id": "7699b371",
   "metadata": {},
   "outputs": [
    {
     "name": "stdout",
     "output_type": "stream",
     "text": [
      "[3 4]\n"
     ]
    }
   ],
   "source": [
    "arr1 = np.array([1, 2, 3, 4])\n",
    "arr2 = np.array([3, 4, 5, 6])\n",
    "newarr = np.intersect1d(arr1, arr2, assume_unique=True)\n",
    "print(newarr)"
   ]
  },
  {
   "cell_type": "markdown",
   "id": "3fe9fc49",
   "metadata": {},
   "source": [
    "\n",
    "## Finding Difference"
   ]
  },
  {
   "cell_type": "code",
   "execution_count": 91,
   "id": "2e3fd8bf",
   "metadata": {},
   "outputs": [
    {
     "name": "stdout",
     "output_type": "stream",
     "text": [
      "[1 2]\n"
     ]
    }
   ],
   "source": [
    "arr1 = np.array([1, 2, 3, 4])\n",
    "arr2 = np.array([3, 4, 5, 6])\n",
    "newarr = np.setdiff1d(arr1, arr2, assume_unique=True)\n",
    "print(newarr)"
   ]
  },
  {
   "cell_type": "markdown",
   "id": "c99bae03",
   "metadata": {},
   "source": [
    "## Finding Symmetric Difference"
   ]
  },
  {
   "cell_type": "code",
   "execution_count": 92,
   "id": "0fe1a6bf",
   "metadata": {},
   "outputs": [
    {
     "name": "stdout",
     "output_type": "stream",
     "text": [
      "[1 2 5 6]\n"
     ]
    }
   ],
   "source": [
    "arr1 = np.array([1, 2, 3, 4])\n",
    "arr2 = np.array([3, 4, 5, 6])\n",
    "newarr = np.setxor1d(arr1, arr2, assume_unique=True)\n",
    "print(newarr)"
   ]
  }
 ],
 "metadata": {
  "kernelspec": {
   "display_name": "python_tutorial",
   "language": "python",
   "name": "python3"
  },
  "language_info": {
   "codemirror_mode": {
    "name": "ipython",
    "version": 3
   },
   "file_extension": ".py",
   "mimetype": "text/x-python",
   "name": "python",
   "nbconvert_exporter": "python",
   "pygments_lexer": "ipython3",
   "version": "3.8.20"
  }
 },
 "nbformat": 4,
 "nbformat_minor": 5
}
